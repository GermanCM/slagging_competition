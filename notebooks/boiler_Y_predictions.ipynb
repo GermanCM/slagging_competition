{
 "nbformat": 4,
 "nbformat_minor": 2,
 "metadata": {
  "language_info": {
   "name": "python",
   "codemirror_mode": {
    "name": "ipython",
    "version": 3
   },
   "version": "3.7.4-final"
  },
  "orig_nbformat": 2,
  "file_extension": ".py",
  "mimetype": "text/x-python",
  "name": "python",
  "npconvert_exporter": "python",
  "pygments_lexer": "ipython3",
  "version": 3,
  "kernelspec": {
   "name": "python37464bitbaseconda00f4e431a8b84e6585d67bb0d002ca0e",
   "display_name": "Python 3.7.4 64-bit ('base': conda)"
  }
 },
 "cells": [
  {
   "cell_type": "markdown",
   "metadata": {},
   "source": [
    "### Boiler X predictions"
   ]
  },
  {
   "cell_type": "code",
   "execution_count": 1,
   "metadata": {},
   "outputs": [],
   "source": [
    "import pandas as pd \n",
    "import numpy as np \n",
    "from numpy import sort, sqrt, argsort, inf\n",
    "from sklearn.feature_selection import SelectFromModel\n",
    "\n",
    "from sklearn.ensemble import RandomForestClassifier\n",
    "from sklearn.model_selection import cross_val_score, KFold\n",
    "\n",
    "from sklearn.metrics import precision_score\n",
    "from sklearn.metrics import fbeta_score\n",
    "from sklearn.metrics import accuracy_score\n",
    "from sklearn.metrics import make_scorer, precision_recall_curve,confusion_matrix\n",
    "from sklearn.metrics import roc_auc_score\n",
    "from xgboost import XGBClassifier"
   ]
  },
  {
   "cell_type": "code",
   "execution_count": 29,
   "metadata": {},
   "outputs": [],
   "source": [
    "import pickle\n",
    "\n",
    "file_data = r'..\\models\\xgb_best_params_right_boiler_Y_feat_sel_thres_4.pkl'\n",
    "file_data = open(file_data, 'rb')\n",
    "xgb_best_params_edp_funct_model_boiler_y_sel_feat_th_4 = pickle.load(file_data)\n",
    "file_data.close()"
   ]
  },
  {
   "cell_type": "code",
   "execution_count": 3,
   "metadata": {},
   "outputs": [],
   "source": [
    "data_boiler_Y_year_3 = pd.read_csv('..\\\\data\\\\boiler_unity_xxx3.csv',sep=';')\n",
    "data_boiler_Y_year_4 = pd.read_csv('..\\\\data\\\\boiler_unity_xxx4.csv',sep=';')"
   ]
  },
  {
   "cell_type": "code",
   "execution_count": 4,
   "metadata": {},
   "outputs": [],
   "source": [
    "selected_colums_yirman = ['SSTIMESTAMP',\n",
    "'Active Power',\n",
    "'Boiler Feedwater Pressure',\n",
    "'Boiler Furnace Pressure',\n",
    "'Boiler Outlet Pressure',\n",
    "'Coal Feeder #1',\n",
    "'Coal Feeder #5',\n",
    "'Dynamic Coal Classifier Rotational Speed Coal Mill #1',\n",
    "'Dynamic Coal Classifier Rotational Speed Coal Mill #2',\n",
    "'Dynamic Coal Classifier Rotational Speed Coal Mill #3',\n",
    "'Secondary Air Row #3 (Side 2)',\n",
    "'Secondary Air Row #5 (Side 2)',\n",
    "'Boosted Overfire Air (Side 1)',\n",
    "'Boosted Overfire Air (Side 2)',\n",
    "'Secondary Air Fan #1 Temperature 2',\n",
    "'Flue Gas Induced Draft Fan #1 Blade Pitch Angle',\n",
    "'Total Atemperator Feedwater Flow',\n",
    "'Main Steam First Desuperheater Control Valve position (Side 1)',\n",
    "'Main Steam First Desuperheater Control Valve position (Side 2)',\n",
    "'Main Steam Second Desuperheater Control Valve position (Side 1)',\n",
    "'Main Steam Second Desuperheater Control Valve position (Side 2)',\n",
    "'Main Steam Turbine Control Valve #B',\n",
    "'Main Steam Turbine Control Valve #D',\n",
    "'Air Heater #1 Differential Pressure',\n",
    "'Reheated Steam Temperature 1 @Outlet']\n",
    "\n",
    "\n",
    "data_Y_3 = data_boiler_Y_year_3[selected_colums_yirman]\n",
    "data_Y_4 = data_boiler_Y_year_4[selected_colums_yirman]"
   ]
  },
  {
   "cell_type": "code",
   "execution_count": 5,
   "metadata": {},
   "outputs": [],
   "source": [
    "datetime_values_3 = data_Y_3['SSTIMESTAMP']\n",
    "hours_values_3 = pd.Series([x.split(' ')[1].split(':')[0] for x in datetime_values_3]) \n",
    "days_values_3 = pd.Series([x.split(' ')[0].split('-')[0] for x in datetime_values_3])\n",
    "months_values_3 = pd.Series([x.split(' ')[0].split('-')[1] for x in datetime_values_3])\n",
    "\n",
    "frequency_sampling_ID_3 = list([months_values_3[0]+'-'+days_values_3[0]+'-'+hours_values_3[0]])\n",
    "for index in range(1, len(hours_values_3)):\n",
    "    frequency_sampling_ID_3.append(months_values_3[index]+'-'+days_values_3[index]+'-'+hours_values_3[index])\n",
    "\n",
    "data_Y_3['ID_sampling'] = frequency_sampling_ID_3 \n",
    "\n",
    "datetime_values_4 = data_Y_4['SSTIMESTAMP']\n",
    "hours_values_4 = pd.Series([x.split(' ')[1].split(':')[0] for x in datetime_values_4]) \n",
    "days_values_4 = pd.Series([x.split(' ')[0].split('-')[0] for x in datetime_values_4])\n",
    "months_values_4 = pd.Series([x.split(' ')[0].split('-')[1] for x in datetime_values_4])\n",
    "\n",
    "frequency_sampling_ID_4 = list([months_values_4[0]+'-'+days_values_4[0]+'-'+hours_values_4[0]])\n",
    "for index in range(1, len(hours_values_4)):\n",
    "    frequency_sampling_ID_4.append(months_values_4[index]+'-'+days_values_4[index]+'-'+hours_values_4[index])\n",
    "\n",
    "data_Y_4['ID_sampling'] = frequency_sampling_ID_4\n"
   ]
  },
  {
   "cell_type": "code",
   "execution_count": 6,
   "metadata": {},
   "outputs": [],
   "source": [
    "tablon_final_3 = pd.DataFrame({'ID_sampling': frequency_sampling_ID_3, 'HOUR': hours_values_3, 'DAY': days_values_3, 'MONTH': months_values_3})\n",
    "tablon_final_3.drop_duplicates(subset='ID_sampling', keep='first', inplace=True)\n",
    "tablon_final_3.set_index('ID_sampling', inplace=True)\n",
    "\n",
    "features_3 = [x for x in data_Y_3.columns if x not in ['ID_sampling', 'HOUR', 'DAY', 'MONTH', 'SSTIMESTAMP']]\n",
    "\n",
    "for col in features_3:\n",
    "    #AÑADIR MEAN Y MEDIAN EXPONENTIALLY WEIGHTED\n",
    "    data_hourly_grouped_3 = data_Y_3.groupby(['ID_sampling'])[col].agg(['median','mean','max','min','std','skew']).reset_index(drop=True)\n",
    "    data_hourly_grouped_3 = data_hourly_grouped_3.add_prefix(col+'_')\n",
    "    data_hourly_grouped_3.index = tablon_final_3.index\n",
    "    tablon_final_3 = pd.concat([tablon_final_3, data_hourly_grouped_3],axis=1)\n"
   ]
  },
  {
   "cell_type": "code",
   "execution_count": 7,
   "metadata": {},
   "outputs": [],
   "source": [
    "tablon_final_4 = pd.DataFrame({'ID_sampling': frequency_sampling_ID_4, 'HOUR': hours_values_4, 'DAY': days_values_4, 'MONTH': months_values_4})\n",
    "tablon_final_4.drop_duplicates(subset='ID_sampling', keep='first', inplace=True)\n",
    "tablon_final_4.set_index('ID_sampling', inplace=True)\n",
    "\n",
    "features_4 = [x for x in data_Y_4.columns if x not in ['ID_sampling', 'HOUR', 'DAY', 'MONTH', 'SSTIMESTAMP']]\n",
    "\n",
    "for col in features_4:\n",
    "    #AÑADIR MEAN Y MEDIAN EXPONENTIALLY WEIGHTED\n",
    "    data_hourly_grouped_4 = data_Y_4.groupby(['ID_sampling'])[col].agg(['median','mean','max','min','std','skew']).reset_index(drop=True)\n",
    "    data_hourly_grouped_4 = data_hourly_grouped_4.add_prefix(col+'_')\n",
    "    data_hourly_grouped_4.index = tablon_final_4.index\n",
    "    tablon_final_4 = pd.concat([tablon_final_4, data_hourly_grouped_4],axis=1)\n"
   ]
  },
  {
   "cell_type": "code",
   "execution_count": 8,
   "metadata": {},
   "outputs": [],
   "source": [
    "tablon_final_3.MONTH = tablon_final_3.MONTH.astype('int32')\n",
    "tablon_final_3.DAY = tablon_final_3.DAY.astype('int32')\n",
    "tablon_final_3.HOUR = tablon_final_3.HOUR.astype('int32')\n",
    "\n",
    "tablon_final_3.sort_values(by=['MONTH', 'DAY', 'HOUR'], ascending=[1, 1, 1], inplace=True)\n",
    "\n",
    "tablon_final_4.MONTH = tablon_final_4.MONTH.astype('int32')\n",
    "tablon_final_4.DAY = tablon_final_4.DAY.astype('int32')\n",
    "tablon_final_4.HOUR = tablon_final_4.HOUR.astype('int32')\n",
    "\n",
    "tablon_final_4.sort_values(by=['MONTH', 'DAY', 'HOUR'], ascending=[1, 1, 1], inplace=True)\n"
   ]
  },
  {
   "cell_type": "markdown",
   "metadata": {},
   "source": [
    "## Interpolamos"
   ]
  },
  {
   "cell_type": "code",
   "execution_count": 10,
   "metadata": {},
   "outputs": [],
   "source": [
    "selected_important_features = ['Flue Gas Induced Draft Fan #1 Blade Pitch Angle_mean',\n",
    " 'Main Steam Turbine Control Valve #B_max',\n",
    " 'Secondary Air Row #5 (Side 2)_min',\n",
    " 'Flue Gas Induced Draft Fan #1 Blade Pitch Angle_median',\n",
    " 'Coal Feeder #1_mean',\n",
    " 'Main Steam Second Desuperheater Control Valve position (Side 2)_median',\n",
    " 'Boiler Outlet Pressure_max',\n",
    " 'Boiler Furnace Pressure_mean',\n",
    " 'Main Steam Turbine Control Valve #D_max',\n",
    " 'Main Steam Second Desuperheater Control Valve position (Side 2)_mean',\n",
    " 'Flue Gas Induced Draft Fan #1 Blade Pitch Angle_min',\n",
    " 'Coal Feeder #1_min',\n",
    " 'Secondary Air Fan #1 Temperature 2_min',\n",
    " 'Air Heater #1 Differential Pressure_mean',\n",
    " 'Boiler Outlet Pressure_median',\n",
    " 'Coal Feeder #1_max',\n",
    " 'Boosted Overfire Air (Side 1)_max',\n",
    " 'Main Steam Turbine Control Valve #B_median',\n",
    " 'Dynamic Coal Classifier Rotational Speed Coal Mill #1_min',\n",
    " 'Main Steam Second Desuperheater Control Valve position (Side 2)_max',\n",
    " 'Boiler Feedwater Pressure_max',\n",
    " 'Boosted Overfire Air (Side 1)_min',\n",
    " 'Secondary Air Fan #1 Temperature 2_mean',\n",
    " 'Coal Feeder #1_median',\n",
    " 'Flue Gas Induced Draft Fan #1 Blade Pitch Angle_max',\n",
    " 'Boiler Feedwater Pressure_median',\n",
    " 'Dynamic Coal Classifier Rotational Speed Coal Mill #2_min',\n",
    " 'Dynamic Coal Classifier Rotational Speed Coal Mill #3_min',\n",
    " 'Total Atemperator Feedwater Flow_max',\n",
    " 'Main Steam First Desuperheater Control Valve position (Side 2)_min',\n",
    " 'Boiler Outlet Pressure_mean',\n",
    " 'Boiler Feedwater Pressure_std',\n",
    " 'Active Power_mean',\n",
    " 'Boosted Overfire Air (Side 1)_mean',\n",
    " 'Boosted Overfire Air (Side 1)_median',\n",
    " 'Coal Feeder #5_max']"
   ]
  },
  {
   "cell_type": "code",
   "execution_count": 11,
   "metadata": {},
   "outputs": [],
   "source": [
    "inputs = [x for x in tablon_final_3.columns if x not in ['HOUR', 'DAY', 'MONTH']]\n",
    "\n",
    "X_3 = tablon_final_3[selected_important_features]\n",
    "X_4 = tablon_final_4[selected_important_features]"
   ]
  },
  {
   "cell_type": "code",
   "execution_count": 12,
   "metadata": {},
   "outputs": [],
   "source": [
    "def imputeMissingInterpolating(array_df, features_to_impute):\n",
    "    import numpy as np\n",
    "    for attr in features_to_impute:\n",
    "        attribute_interpolated = array_df[attr].interpolate(method='linear', limit_direction='both')\n",
    "        #print('nans length for {}: {}'.format(attr, len(attribute_interpolated[np.isnan(attribute_interpolated)])))\n",
    "        assert len(attribute_interpolated[np.isnan(attribute_interpolated)]) == 0\n",
    "        \n",
    "        array_df[attr] = attribute_interpolated\n",
    "    \n",
    "    return array_df\n",
    "\n",
    "X_interpolated_3 = imputeMissingInterpolating(X_3, X_3.columns[X_3.isna().any()])\n",
    "X_interpolated_4 = imputeMissingInterpolating(X_4, X_4.columns[X_4.isna().any()])\n"
   ]
  },
  {
   "cell_type": "code",
   "execution_count": 13,
   "metadata": {},
   "outputs": [
    {
     "data": {
      "text/html": "<div>\n<style scoped>\n    .dataframe tbody tr th:only-of-type {\n        vertical-align: middle;\n    }\n\n    .dataframe tbody tr th {\n        vertical-align: top;\n    }\n\n    .dataframe thead th {\n        text-align: right;\n    }\n</style>\n<table border=\"1\" class=\"dataframe\">\n  <thead>\n    <tr style=\"text-align: right;\">\n      <th></th>\n      <th>Flue Gas Induced Draft Fan #1 Blade Pitch Angle_mean</th>\n      <th>Main Steam Turbine Control Valve #B_max</th>\n      <th>Secondary Air Row #5 (Side 2)_min</th>\n      <th>Flue Gas Induced Draft Fan #1 Blade Pitch Angle_median</th>\n      <th>Coal Feeder #1_mean</th>\n      <th>Main Steam Second Desuperheater Control Valve position (Side 2)_median</th>\n      <th>Boiler Outlet Pressure_max</th>\n      <th>Boiler Furnace Pressure_mean</th>\n      <th>Main Steam Turbine Control Valve #D_max</th>\n      <th>Main Steam Second Desuperheater Control Valve position (Side 2)_mean</th>\n      <th>...</th>\n      <th>Dynamic Coal Classifier Rotational Speed Coal Mill #2_min</th>\n      <th>Dynamic Coal Classifier Rotational Speed Coal Mill #3_min</th>\n      <th>Total Atemperator Feedwater Flow_max</th>\n      <th>Main Steam First Desuperheater Control Valve position (Side 2)_min</th>\n      <th>Boiler Outlet Pressure_mean</th>\n      <th>Boiler Feedwater Pressure_std</th>\n      <th>Active Power_mean</th>\n      <th>Boosted Overfire Air (Side 1)_mean</th>\n      <th>Boosted Overfire Air (Side 1)_median</th>\n      <th>Coal Feeder #5_max</th>\n    </tr>\n    <tr>\n      <th>ID_sampling</th>\n      <th></th>\n      <th></th>\n      <th></th>\n      <th></th>\n      <th></th>\n      <th></th>\n      <th></th>\n      <th></th>\n      <th></th>\n      <th></th>\n      <th></th>\n      <th></th>\n      <th></th>\n      <th></th>\n      <th></th>\n      <th></th>\n      <th></th>\n      <th></th>\n      <th></th>\n      <th></th>\n      <th></th>\n    </tr>\n  </thead>\n  <tbody>\n    <tr>\n      <td>01-01-00</td>\n      <td>55.649821</td>\n      <td>96.84207</td>\n      <td>68.03275</td>\n      <td>55.737300</td>\n      <td>24.865723</td>\n      <td>26.025390</td>\n      <td>-6.699219</td>\n      <td>-1.433919</td>\n      <td>56.85808</td>\n      <td>19.356282</td>\n      <td>...</td>\n      <td>114.6973</td>\n      <td>117.1387</td>\n      <td>40.05001</td>\n      <td>1.586914</td>\n      <td>-7.273763</td>\n      <td>0.425326</td>\n      <td>0.971101</td>\n      <td>65.214840</td>\n      <td>65.21484</td>\n      <td>25.06836</td>\n    </tr>\n    <tr>\n      <td>01-01-01</td>\n      <td>54.252116</td>\n      <td>96.54666</td>\n      <td>65.38943</td>\n      <td>54.174805</td>\n      <td>24.313966</td>\n      <td>19.482425</td>\n      <td>-6.718750</td>\n      <td>-1.463216</td>\n      <td>51.28557</td>\n      <td>20.245363</td>\n      <td>...</td>\n      <td>114.6973</td>\n      <td>117.1387</td>\n      <td>43.40686</td>\n      <td>12.475590</td>\n      <td>-7.210286</td>\n      <td>0.786905</td>\n      <td>0.956978</td>\n      <td>65.039060</td>\n      <td>65.03906</td>\n      <td>25.10742</td>\n    </tr>\n    <tr>\n      <td>01-01-02</td>\n      <td>53.542076</td>\n      <td>87.03445</td>\n      <td>65.87724</td>\n      <td>53.515630</td>\n      <td>24.139811</td>\n      <td>18.151855</td>\n      <td>-6.835938</td>\n      <td>-1.466472</td>\n      <td>28.48894</td>\n      <td>18.473309</td>\n      <td>...</td>\n      <td>114.6973</td>\n      <td>117.1387</td>\n      <td>46.93356</td>\n      <td>13.500980</td>\n      <td>-7.161458</td>\n      <td>0.509712</td>\n      <td>0.941863</td>\n      <td>65.009765</td>\n      <td>64.95117</td>\n      <td>24.52148</td>\n    </tr>\n  </tbody>\n</table>\n<p>3 rows × 36 columns</p>\n</div>",
      "text/plain": "             Flue Gas Induced Draft Fan #1 Blade Pitch Angle_mean  \\\nID_sampling                                                         \n01-01-00                                             55.649821      \n01-01-01                                             54.252116      \n01-01-02                                             53.542076      \n\n             Main Steam Turbine Control Valve #B_max  \\\nID_sampling                                            \n01-01-00                                    96.84207   \n01-01-01                                    96.54666   \n01-01-02                                    87.03445   \n\n             Secondary Air Row #5 (Side 2)_min  \\\nID_sampling                                      \n01-01-00                              68.03275   \n01-01-01                              65.38943   \n01-01-02                              65.87724   \n\n             Flue Gas Induced Draft Fan #1 Blade Pitch Angle_median  \\\nID_sampling                                                           \n01-01-00                                             55.737300        \n01-01-01                                             54.174805        \n01-01-02                                             53.515630        \n\n             Coal Feeder #1_mean  \\\nID_sampling                        \n01-01-00               24.865723   \n01-01-01               24.313966   \n01-01-02               24.139811   \n\n             Main Steam Second Desuperheater Control Valve position (Side 2)_median  \\\nID_sampling                                                                           \n01-01-00                                             26.025390                        \n01-01-01                                             19.482425                        \n01-01-02                                             18.151855                        \n\n             Boiler Outlet Pressure_max  Boiler Furnace Pressure_mean  \\\nID_sampling                                                             \n01-01-00                      -6.699219                     -1.433919   \n01-01-01                      -6.718750                     -1.463216   \n01-01-02                      -6.835938                     -1.466472   \n\n             Main Steam Turbine Control Valve #D_max  \\\nID_sampling                                            \n01-01-00                                    56.85808   \n01-01-01                                    51.28557   \n01-01-02                                    28.48894   \n\n             Main Steam Second Desuperheater Control Valve position (Side 2)_mean  \\\nID_sampling                                                                         \n01-01-00                                             19.356282                      \n01-01-01                                             20.245363                      \n01-01-02                                             18.473309                      \n\n             ...  Dynamic Coal Classifier Rotational Speed Coal Mill #2_min  \\\nID_sampling  ...                                                              \n01-01-00     ...                                           114.6973           \n01-01-01     ...                                           114.6973           \n01-01-02     ...                                           114.6973           \n\n             Dynamic Coal Classifier Rotational Speed Coal Mill #3_min  \\\nID_sampling                                                              \n01-01-00                                              117.1387           \n01-01-01                                              117.1387           \n01-01-02                                              117.1387           \n\n             Total Atemperator Feedwater Flow_max  \\\nID_sampling                                         \n01-01-00                                 40.05001   \n01-01-01                                 43.40686   \n01-01-02                                 46.93356   \n\n             Main Steam First Desuperheater Control Valve position (Side 2)_min  \\\nID_sampling                                                                       \n01-01-00                                              1.586914                    \n01-01-01                                             12.475590                    \n01-01-02                                             13.500980                    \n\n             Boiler Outlet Pressure_mean  Boiler Feedwater Pressure_std  \\\nID_sampling                                                               \n01-01-00                       -7.273763                       0.425326   \n01-01-01                       -7.210286                       0.786905   \n01-01-02                       -7.161458                       0.509712   \n\n             Active Power_mean  Boosted Overfire Air (Side 1)_mean  \\\nID_sampling                                                          \n01-01-00              0.971101                           65.214840   \n01-01-01              0.956978                           65.039060   \n01-01-02              0.941863                           65.009765   \n\n             Boosted Overfire Air (Side 1)_median  Coal Feeder #5_max  \nID_sampling                                                            \n01-01-00                                 65.21484            25.06836  \n01-01-01                                 65.03906            25.10742  \n01-01-02                                 64.95117            24.52148  \n\n[3 rows x 36 columns]"
     },
     "execution_count": 13,
     "metadata": {},
     "output_type": "execute_result"
    }
   ],
   "source": [
    "X_interpolated_4.head(3)"
   ]
  },
  {
   "cell_type": "code",
   "execution_count": 14,
   "metadata": {},
   "outputs": [],
   "source": [
    "def scale_and_save_scaler(dataframe, features_to_scale, df_to_concat, saving_path=False):\n",
    "    try:\n",
    "        import pandas as pd\n",
    "        from sklearn.preprocessing import StandardScaler\n",
    "        from joblib import dump\n",
    "\n",
    "        #husillo m22\n",
    "        standard_scaler = StandardScaler()\n",
    "        standard_scaler.fit(dataframe[features_to_scale].values)\n",
    "        scaled_dataframe_values = standard_scaler.transform(dataframe[features_to_scale].values)\n",
    "        scaled_dataframe = pd.DataFrame(columns=features_to_scale, data=scaled_dataframe_values, index = dataframe.index)\n",
    "        \n",
    "        features_no_to_scale = [x for x in dataframe.columns if x not in features_to_scale]\n",
    "        \n",
    "        assert dataframe.index.all() == scaled_dataframe.index.all()\n",
    "        \n",
    "        final_scaled_df = pd.concat([df_to_concat, scaled_dataframe], axis=1) \n",
    "        \n",
    "        if saving_path:\n",
    "            dump(standard_scaler, saving_path) \n",
    "\n",
    "        return final_scaled_df\n",
    "\n",
    "    except Exception as exc:\n",
    "        raise exc\n",
    "        #return exc\n",
    "\n",
    "#numeric_features = [x for x in tablon_final_3.columns if x not in ['HOUR', 'DAY', 'MONTH']]\n",
    "\n",
    "dataset_to_concat_3 = tablon_final_3[['HOUR', 'DAY', 'MONTH']]\n",
    "dataset_to_concat_4 = tablon_final_4[['HOUR', 'DAY', 'MONTH']]\n",
    "\n",
    "X_scaled_interpolated_3 = scale_and_save_scaler(X_interpolated_3, features_to_scale = selected_important_features, df_to_concat = dataset_to_concat_3)\n",
    "X_scaled_interpolated_4 = scale_and_save_scaler(X_interpolated_4, features_to_scale = selected_important_features, df_to_concat = dataset_to_concat_4)"
   ]
  },
  {
   "cell_type": "code",
   "execution_count": 15,
   "metadata": {},
   "outputs": [],
   "source": [
    "X_scaled_interpolated_3.to_csv('../data/boiler_Y_year_3_train_data_scaled_interpolated_imp_feat.csv')\n",
    "X_scaled_interpolated_4.to_csv('../data/boiler_Y_year_4_train_data_scaled_interpolated_imp_feat.csv')\n"
   ]
  },
  {
   "cell_type": "code",
   "execution_count": 23,
   "metadata": {},
   "outputs": [],
   "source": [
    "X_scaled_interpolated_from_csv_3 = pd.read_csv('../data/boiler_Y_year_3_train_data_scaled_interpolated_imp_feat.csv')\n",
    "X_scaled_interpolated_from_csv_3.set_index('ID_sampling', inplace=True)\n",
    "X_scaled_interpolated_from_csv_4 = pd.read_csv('../data/boiler_Y_year_4_train_data_scaled_interpolated_imp_feat.csv')\n",
    "X_scaled_interpolated_from_csv_4.set_index('ID_sampling', inplace=True)\n"
   ]
  },
  {
   "cell_type": "code",
   "execution_count": 24,
   "metadata": {},
   "outputs": [
    {
     "data": {
      "text/html": "<div>\n<style scoped>\n    .dataframe tbody tr th:only-of-type {\n        vertical-align: middle;\n    }\n\n    .dataframe tbody tr th {\n        vertical-align: top;\n    }\n\n    .dataframe thead th {\n        text-align: right;\n    }\n</style>\n<table border=\"1\" class=\"dataframe\">\n  <thead>\n    <tr style=\"text-align: right;\">\n      <th></th>\n      <th>HOUR</th>\n      <th>DAY</th>\n      <th>MONTH</th>\n      <th>Flue Gas Induced Draft Fan #1 Blade Pitch Angle_mean</th>\n      <th>Main Steam Turbine Control Valve #B_max</th>\n      <th>Secondary Air Row #5 (Side 2)_min</th>\n      <th>Flue Gas Induced Draft Fan #1 Blade Pitch Angle_median</th>\n      <th>Coal Feeder #1_mean</th>\n      <th>Main Steam Second Desuperheater Control Valve position (Side 2)_median</th>\n      <th>Boiler Outlet Pressure_max</th>\n      <th>...</th>\n      <th>Dynamic Coal Classifier Rotational Speed Coal Mill #2_min</th>\n      <th>Dynamic Coal Classifier Rotational Speed Coal Mill #3_min</th>\n      <th>Total Atemperator Feedwater Flow_max</th>\n      <th>Main Steam First Desuperheater Control Valve position (Side 2)_min</th>\n      <th>Boiler Outlet Pressure_mean</th>\n      <th>Boiler Feedwater Pressure_std</th>\n      <th>Active Power_mean</th>\n      <th>Boosted Overfire Air (Side 1)_mean</th>\n      <th>Boosted Overfire Air (Side 1)_median</th>\n      <th>Coal Feeder #5_max</th>\n    </tr>\n    <tr>\n      <th>ID_sampling</th>\n      <th></th>\n      <th></th>\n      <th></th>\n      <th></th>\n      <th></th>\n      <th></th>\n      <th></th>\n      <th></th>\n      <th></th>\n      <th></th>\n      <th></th>\n      <th></th>\n      <th></th>\n      <th></th>\n      <th></th>\n      <th></th>\n      <th></th>\n      <th></th>\n      <th></th>\n      <th></th>\n      <th></th>\n    </tr>\n  </thead>\n  <tbody>\n    <tr>\n      <td>01-01-00</td>\n      <td>0</td>\n      <td>1</td>\n      <td>1</td>\n      <td>-2.332397</td>\n      <td>-1.521259</td>\n      <td>-1.255896</td>\n      <td>-2.308661</td>\n      <td>-1.50666</td>\n      <td>-0.840168</td>\n      <td>1.901044</td>\n      <td>...</td>\n      <td>-2.110952</td>\n      <td>-2.35249</td>\n      <td>-1.189515</td>\n      <td>-1.12488</td>\n      <td>1.973156</td>\n      <td>-0.289632</td>\n      <td>-1.608938</td>\n      <td>-0.487889</td>\n      <td>-0.487419</td>\n      <td>-1.400309</td>\n    </tr>\n    <tr>\n      <td>01-01-01</td>\n      <td>1</td>\n      <td>1</td>\n      <td>1</td>\n      <td>-2.332397</td>\n      <td>-1.521259</td>\n      <td>-1.297074</td>\n      <td>-2.308661</td>\n      <td>-1.50666</td>\n      <td>-0.840168</td>\n      <td>1.912681</td>\n      <td>...</td>\n      <td>-2.110952</td>\n      <td>-2.35249</td>\n      <td>-1.189515</td>\n      <td>-1.12488</td>\n      <td>1.978802</td>\n      <td>-0.289632</td>\n      <td>-1.608860</td>\n      <td>-0.487889</td>\n      <td>-0.487419</td>\n      <td>-1.400309</td>\n    </tr>\n    <tr>\n      <td>01-01-02</td>\n      <td>2</td>\n      <td>1</td>\n      <td>1</td>\n      <td>-2.332397</td>\n      <td>-1.521259</td>\n      <td>-1.255358</td>\n      <td>-2.308661</td>\n      <td>-1.50666</td>\n      <td>-0.836632</td>\n      <td>1.959229</td>\n      <td>...</td>\n      <td>-2.110952</td>\n      <td>-2.35249</td>\n      <td>-1.189515</td>\n      <td>-1.12488</td>\n      <td>2.018326</td>\n      <td>-0.289632</td>\n      <td>-1.608781</td>\n      <td>-0.487889</td>\n      <td>-0.487419</td>\n      <td>-1.400309</td>\n    </tr>\n  </tbody>\n</table>\n<p>3 rows × 39 columns</p>\n</div>",
      "text/plain": "             HOUR  DAY  MONTH  \\\nID_sampling                     \n01-01-00        0    1      1   \n01-01-01        1    1      1   \n01-01-02        2    1      1   \n\n             Flue Gas Induced Draft Fan #1 Blade Pitch Angle_mean  \\\nID_sampling                                                         \n01-01-00                                             -2.332397      \n01-01-01                                             -2.332397      \n01-01-02                                             -2.332397      \n\n             Main Steam Turbine Control Valve #B_max  \\\nID_sampling                                            \n01-01-00                                   -1.521259   \n01-01-01                                   -1.521259   \n01-01-02                                   -1.521259   \n\n             Secondary Air Row #5 (Side 2)_min  \\\nID_sampling                                      \n01-01-00                             -1.255896   \n01-01-01                             -1.297074   \n01-01-02                             -1.255358   \n\n             Flue Gas Induced Draft Fan #1 Blade Pitch Angle_median  \\\nID_sampling                                                           \n01-01-00                                             -2.308661        \n01-01-01                                             -2.308661        \n01-01-02                                             -2.308661        \n\n             Coal Feeder #1_mean  \\\nID_sampling                        \n01-01-00                -1.50666   \n01-01-01                -1.50666   \n01-01-02                -1.50666   \n\n             Main Steam Second Desuperheater Control Valve position (Side 2)_median  \\\nID_sampling                                                                           \n01-01-00                                             -0.840168                        \n01-01-01                                             -0.840168                        \n01-01-02                                             -0.836632                        \n\n             Boiler Outlet Pressure_max  ...  \\\nID_sampling                              ...   \n01-01-00                       1.901044  ...   \n01-01-01                       1.912681  ...   \n01-01-02                       1.959229  ...   \n\n             Dynamic Coal Classifier Rotational Speed Coal Mill #2_min  \\\nID_sampling                                                              \n01-01-00                                             -2.110952           \n01-01-01                                             -2.110952           \n01-01-02                                             -2.110952           \n\n             Dynamic Coal Classifier Rotational Speed Coal Mill #3_min  \\\nID_sampling                                                              \n01-01-00                                              -2.35249           \n01-01-01                                              -2.35249           \n01-01-02                                              -2.35249           \n\n             Total Atemperator Feedwater Flow_max  \\\nID_sampling                                         \n01-01-00                                -1.189515   \n01-01-01                                -1.189515   \n01-01-02                                -1.189515   \n\n             Main Steam First Desuperheater Control Valve position (Side 2)_min  \\\nID_sampling                                                                       \n01-01-00                                              -1.12488                    \n01-01-01                                              -1.12488                    \n01-01-02                                              -1.12488                    \n\n             Boiler Outlet Pressure_mean  Boiler Feedwater Pressure_std  \\\nID_sampling                                                               \n01-01-00                        1.973156                      -0.289632   \n01-01-01                        1.978802                      -0.289632   \n01-01-02                        2.018326                      -0.289632   \n\n             Active Power_mean  Boosted Overfire Air (Side 1)_mean  \\\nID_sampling                                                          \n01-01-00             -1.608938                           -0.487889   \n01-01-01             -1.608860                           -0.487889   \n01-01-02             -1.608781                           -0.487889   \n\n             Boosted Overfire Air (Side 1)_median  Coal Feeder #5_max  \nID_sampling                                                            \n01-01-00                                -0.487419           -1.400309  \n01-01-01                                -0.487419           -1.400309  \n01-01-02                                -0.487419           -1.400309  \n\n[3 rows x 39 columns]"
     },
     "execution_count": 24,
     "metadata": {},
     "output_type": "execute_result"
    }
   ],
   "source": [
    "X_scaled_interpolated_from_csv_3.head(3)"
   ]
  },
  {
   "cell_type": "markdown",
   "metadata": {},
   "source": [
    "### Pasamos a predecir:"
   ]
  },
  {
   "cell_type": "code",
   "execution_count": 25,
   "metadata": {},
   "outputs": [],
   "source": [
    "numeric_features = [x for x in X_scaled_interpolated_from_csv_3.columns if x not in ['HOUR', 'DAY', 'MONTH']]"
   ]
  },
  {
   "cell_type": "code",
   "execution_count": 27,
   "metadata": {},
   "outputs": [
    {
     "data": {
      "text/html": "<div>\n<style scoped>\n    .dataframe tbody tr th:only-of-type {\n        vertical-align: middle;\n    }\n\n    .dataframe tbody tr th {\n        vertical-align: top;\n    }\n\n    .dataframe thead th {\n        text-align: right;\n    }\n</style>\n<table border=\"1\" class=\"dataframe\">\n  <thead>\n    <tr style=\"text-align: right;\">\n      <th></th>\n      <th>Flue Gas Induced Draft Fan #1 Blade Pitch Angle_mean</th>\n      <th>Main Steam Turbine Control Valve #B_max</th>\n      <th>Secondary Air Row #5 (Side 2)_min</th>\n      <th>Flue Gas Induced Draft Fan #1 Blade Pitch Angle_median</th>\n      <th>Coal Feeder #1_mean</th>\n      <th>Main Steam Second Desuperheater Control Valve position (Side 2)_median</th>\n      <th>Boiler Outlet Pressure_max</th>\n      <th>Boiler Furnace Pressure_mean</th>\n      <th>Main Steam Turbine Control Valve #D_max</th>\n      <th>Main Steam Second Desuperheater Control Valve position (Side 2)_mean</th>\n      <th>...</th>\n      <th>Dynamic Coal Classifier Rotational Speed Coal Mill #2_min</th>\n      <th>Dynamic Coal Classifier Rotational Speed Coal Mill #3_min</th>\n      <th>Total Atemperator Feedwater Flow_max</th>\n      <th>Main Steam First Desuperheater Control Valve position (Side 2)_min</th>\n      <th>Boiler Outlet Pressure_mean</th>\n      <th>Boiler Feedwater Pressure_std</th>\n      <th>Active Power_mean</th>\n      <th>Boosted Overfire Air (Side 1)_mean</th>\n      <th>Boosted Overfire Air (Side 1)_median</th>\n      <th>Coal Feeder #5_max</th>\n    </tr>\n    <tr>\n      <th>ID_sampling</th>\n      <th></th>\n      <th></th>\n      <th></th>\n      <th></th>\n      <th></th>\n      <th></th>\n      <th></th>\n      <th></th>\n      <th></th>\n      <th></th>\n      <th></th>\n      <th></th>\n      <th></th>\n      <th></th>\n      <th></th>\n      <th></th>\n      <th></th>\n      <th></th>\n      <th></th>\n      <th></th>\n      <th></th>\n    </tr>\n  </thead>\n  <tbody>\n    <tr>\n      <td>01-01-00</td>\n      <td>-2.332397</td>\n      <td>-1.521259</td>\n      <td>-1.255896</td>\n      <td>-2.308661</td>\n      <td>-1.506660</td>\n      <td>-0.840168</td>\n      <td>1.901044</td>\n      <td>2.384710</td>\n      <td>-1.584077</td>\n      <td>-0.878519</td>\n      <td>...</td>\n      <td>-2.110952</td>\n      <td>-2.352490</td>\n      <td>-1.189515</td>\n      <td>-1.124880</td>\n      <td>1.973156</td>\n      <td>-0.289632</td>\n      <td>-1.608938</td>\n      <td>-0.487889</td>\n      <td>-0.487419</td>\n      <td>-1.400309</td>\n    </tr>\n    <tr>\n      <td>01-01-01</td>\n      <td>-2.332397</td>\n      <td>-1.521259</td>\n      <td>-1.297074</td>\n      <td>-2.308661</td>\n      <td>-1.506660</td>\n      <td>-0.840168</td>\n      <td>1.912681</td>\n      <td>2.384710</td>\n      <td>-1.584077</td>\n      <td>-0.877913</td>\n      <td>...</td>\n      <td>-2.110952</td>\n      <td>-2.352490</td>\n      <td>-1.189515</td>\n      <td>-1.124880</td>\n      <td>1.978802</td>\n      <td>-0.289632</td>\n      <td>-1.608860</td>\n      <td>-0.487889</td>\n      <td>-0.487419</td>\n      <td>-1.400309</td>\n    </tr>\n    <tr>\n      <td>01-01-02</td>\n      <td>-2.332397</td>\n      <td>-1.521259</td>\n      <td>-1.255358</td>\n      <td>-2.308661</td>\n      <td>-1.506660</td>\n      <td>-0.836632</td>\n      <td>1.959229</td>\n      <td>2.384710</td>\n      <td>-1.584077</td>\n      <td>-0.874882</td>\n      <td>...</td>\n      <td>-2.110952</td>\n      <td>-2.352490</td>\n      <td>-1.189515</td>\n      <td>-1.124880</td>\n      <td>2.018326</td>\n      <td>-0.289632</td>\n      <td>-1.608781</td>\n      <td>-0.487889</td>\n      <td>-0.487419</td>\n      <td>-1.400309</td>\n    </tr>\n    <tr>\n      <td>01-01-03</td>\n      <td>-2.332397</td>\n      <td>-1.527003</td>\n      <td>-1.255205</td>\n      <td>-2.308661</td>\n      <td>-1.506004</td>\n      <td>-0.836632</td>\n      <td>1.959229</td>\n      <td>2.378986</td>\n      <td>-1.584077</td>\n      <td>-0.874882</td>\n      <td>...</td>\n      <td>-2.110952</td>\n      <td>-2.352490</td>\n      <td>-1.174771</td>\n      <td>-1.124880</td>\n      <td>2.029619</td>\n      <td>-0.289632</td>\n      <td>-1.608702</td>\n      <td>-0.487889</td>\n      <td>-0.487419</td>\n      <td>-1.400309</td>\n    </tr>\n    <tr>\n      <td>01-01-04</td>\n      <td>-2.332397</td>\n      <td>-1.527003</td>\n      <td>-1.255057</td>\n      <td>-2.308661</td>\n      <td>-1.505785</td>\n      <td>-0.836632</td>\n      <td>1.959229</td>\n      <td>2.350367</td>\n      <td>-1.584077</td>\n      <td>-0.874882</td>\n      <td>...</td>\n      <td>-2.110952</td>\n      <td>-2.352490</td>\n      <td>-1.174771</td>\n      <td>-1.127704</td>\n      <td>1.988213</td>\n      <td>-0.289632</td>\n      <td>-1.608637</td>\n      <td>-0.487889</td>\n      <td>-0.487419</td>\n      <td>-1.399438</td>\n    </tr>\n    <tr>\n      <td>...</td>\n      <td>...</td>\n      <td>...</td>\n      <td>...</td>\n      <td>...</td>\n      <td>...</td>\n      <td>...</td>\n      <td>...</td>\n      <td>...</td>\n      <td>...</td>\n      <td>...</td>\n      <td>...</td>\n      <td>...</td>\n      <td>...</td>\n      <td>...</td>\n      <td>...</td>\n      <td>...</td>\n      <td>...</td>\n      <td>...</td>\n      <td>...</td>\n      <td>...</td>\n      <td>...</td>\n    </tr>\n    <tr>\n      <td>12-31-19</td>\n      <td>0.106077</td>\n      <td>0.116115</td>\n      <td>-0.841130</td>\n      <td>0.110315</td>\n      <td>1.115148</td>\n      <td>0.605131</td>\n      <td>-0.356541</td>\n      <td>-0.567336</td>\n      <td>-0.006966</td>\n      <td>0.573825</td>\n      <td>...</td>\n      <td>0.328919</td>\n      <td>0.226345</td>\n      <td>0.586702</td>\n      <td>-0.870700</td>\n      <td>-0.282056</td>\n      <td>-0.213323</td>\n      <td>0.637506</td>\n      <td>-0.487889</td>\n      <td>-0.487419</td>\n      <td>-1.400309</td>\n    </tr>\n    <tr>\n      <td>12-31-20</td>\n      <td>0.099282</td>\n      <td>0.100956</td>\n      <td>-0.840740</td>\n      <td>0.095775</td>\n      <td>1.104495</td>\n      <td>0.124249</td>\n      <td>-0.350723</td>\n      <td>-0.532993</td>\n      <td>-0.049930</td>\n      <td>0.137137</td>\n      <td>...</td>\n      <td>0.328919</td>\n      <td>0.226345</td>\n      <td>0.920036</td>\n      <td>-0.430120</td>\n      <td>-0.300406</td>\n      <td>-0.174797</td>\n      <td>0.639302</td>\n      <td>-0.487889</td>\n      <td>-0.487419</td>\n      <td>-1.400309</td>\n    </tr>\n    <tr>\n      <td>12-31-21</td>\n      <td>0.088501</td>\n      <td>0.087481</td>\n      <td>-0.841096</td>\n      <td>0.095237</td>\n      <td>1.098439</td>\n      <td>-0.116192</td>\n      <td>-0.391452</td>\n      <td>-0.518684</td>\n      <td>-0.097190</td>\n      <td>-0.134846</td>\n      <td>...</td>\n      <td>0.328919</td>\n      <td>0.226345</td>\n      <td>1.207682</td>\n      <td>0.061295</td>\n      <td>-0.312640</td>\n      <td>-0.189912</td>\n      <td>0.639275</td>\n      <td>-0.487889</td>\n      <td>-0.487419</td>\n      <td>-1.400309</td>\n    </tr>\n    <tr>\n      <td>12-31-22</td>\n      <td>0.119576</td>\n      <td>0.124536</td>\n      <td>-0.840931</td>\n      <td>0.117854</td>\n      <td>1.109457</td>\n      <td>-0.280612</td>\n      <td>-0.257626</td>\n      <td>-0.520114</td>\n      <td>0.031702</td>\n      <td>-0.288642</td>\n      <td>...</td>\n      <td>0.328919</td>\n      <td>0.226345</td>\n      <td>0.819383</td>\n      <td>-1.161595</td>\n      <td>-0.251002</td>\n      <td>-0.132029</td>\n      <td>0.636989</td>\n      <td>-0.487889</td>\n      <td>-0.487419</td>\n      <td>-1.400309</td>\n    </tr>\n    <tr>\n      <td>12-31-23</td>\n      <td>0.111332</td>\n      <td>0.062217</td>\n      <td>-0.841455</td>\n      <td>0.116777</td>\n      <td>1.097198</td>\n      <td>-0.295639</td>\n      <td>-0.257626</td>\n      <td>-0.544441</td>\n      <td>-0.157340</td>\n      <td>-0.329098</td>\n      <td>...</td>\n      <td>0.328919</td>\n      <td>0.226345</td>\n      <td>0.667927</td>\n      <td>-0.455538</td>\n      <td>-0.253825</td>\n      <td>-0.173919</td>\n      <td>0.639193</td>\n      <td>-0.487889</td>\n      <td>-0.487419</td>\n      <td>-1.400309</td>\n    </tr>\n  </tbody>\n</table>\n<p>8783 rows × 36 columns</p>\n</div>",
      "text/plain": "             Flue Gas Induced Draft Fan #1 Blade Pitch Angle_mean  \\\nID_sampling                                                         \n01-01-00                                             -2.332397      \n01-01-01                                             -2.332397      \n01-01-02                                             -2.332397      \n01-01-03                                             -2.332397      \n01-01-04                                             -2.332397      \n...                                                        ...      \n12-31-19                                              0.106077      \n12-31-20                                              0.099282      \n12-31-21                                              0.088501      \n12-31-22                                              0.119576      \n12-31-23                                              0.111332      \n\n             Main Steam Turbine Control Valve #B_max  \\\nID_sampling                                            \n01-01-00                                   -1.521259   \n01-01-01                                   -1.521259   \n01-01-02                                   -1.521259   \n01-01-03                                   -1.527003   \n01-01-04                                   -1.527003   \n...                                              ...   \n12-31-19                                    0.116115   \n12-31-20                                    0.100956   \n12-31-21                                    0.087481   \n12-31-22                                    0.124536   \n12-31-23                                    0.062217   \n\n             Secondary Air Row #5 (Side 2)_min  \\\nID_sampling                                      \n01-01-00                             -1.255896   \n01-01-01                             -1.297074   \n01-01-02                             -1.255358   \n01-01-03                             -1.255205   \n01-01-04                             -1.255057   \n...                                        ...   \n12-31-19                             -0.841130   \n12-31-20                             -0.840740   \n12-31-21                             -0.841096   \n12-31-22                             -0.840931   \n12-31-23                             -0.841455   \n\n             Flue Gas Induced Draft Fan #1 Blade Pitch Angle_median  \\\nID_sampling                                                           \n01-01-00                                             -2.308661        \n01-01-01                                             -2.308661        \n01-01-02                                             -2.308661        \n01-01-03                                             -2.308661        \n01-01-04                                             -2.308661        \n...                                                        ...        \n12-31-19                                              0.110315        \n12-31-20                                              0.095775        \n12-31-21                                              0.095237        \n12-31-22                                              0.117854        \n12-31-23                                              0.116777        \n\n             Coal Feeder #1_mean  \\\nID_sampling                        \n01-01-00               -1.506660   \n01-01-01               -1.506660   \n01-01-02               -1.506660   \n01-01-03               -1.506004   \n01-01-04               -1.505785   \n...                          ...   \n12-31-19                1.115148   \n12-31-20                1.104495   \n12-31-21                1.098439   \n12-31-22                1.109457   \n12-31-23                1.097198   \n\n             Main Steam Second Desuperheater Control Valve position (Side 2)_median  \\\nID_sampling                                                                           \n01-01-00                                             -0.840168                        \n01-01-01                                             -0.840168                        \n01-01-02                                             -0.836632                        \n01-01-03                                             -0.836632                        \n01-01-04                                             -0.836632                        \n...                                                        ...                        \n12-31-19                                              0.605131                        \n12-31-20                                              0.124249                        \n12-31-21                                             -0.116192                        \n12-31-22                                             -0.280612                        \n12-31-23                                             -0.295639                        \n\n             Boiler Outlet Pressure_max  Boiler Furnace Pressure_mean  \\\nID_sampling                                                             \n01-01-00                       1.901044                      2.384710   \n01-01-01                       1.912681                      2.384710   \n01-01-02                       1.959229                      2.384710   \n01-01-03                       1.959229                      2.378986   \n01-01-04                       1.959229                      2.350367   \n...                                 ...                           ...   \n12-31-19                      -0.356541                     -0.567336   \n12-31-20                      -0.350723                     -0.532993   \n12-31-21                      -0.391452                     -0.518684   \n12-31-22                      -0.257626                     -0.520114   \n12-31-23                      -0.257626                     -0.544441   \n\n             Main Steam Turbine Control Valve #D_max  \\\nID_sampling                                            \n01-01-00                                   -1.584077   \n01-01-01                                   -1.584077   \n01-01-02                                   -1.584077   \n01-01-03                                   -1.584077   \n01-01-04                                   -1.584077   \n...                                              ...   \n12-31-19                                   -0.006966   \n12-31-20                                   -0.049930   \n12-31-21                                   -0.097190   \n12-31-22                                    0.031702   \n12-31-23                                   -0.157340   \n\n             Main Steam Second Desuperheater Control Valve position (Side 2)_mean  \\\nID_sampling                                                                         \n01-01-00                                             -0.878519                      \n01-01-01                                             -0.877913                      \n01-01-02                                             -0.874882                      \n01-01-03                                             -0.874882                      \n01-01-04                                             -0.874882                      \n...                                                        ...                      \n12-31-19                                              0.573825                      \n12-31-20                                              0.137137                      \n12-31-21                                             -0.134846                      \n12-31-22                                             -0.288642                      \n12-31-23                                             -0.329098                      \n\n             ...  Dynamic Coal Classifier Rotational Speed Coal Mill #2_min  \\\nID_sampling  ...                                                              \n01-01-00     ...                                          -2.110952           \n01-01-01     ...                                          -2.110952           \n01-01-02     ...                                          -2.110952           \n01-01-03     ...                                          -2.110952           \n01-01-04     ...                                          -2.110952           \n...          ...                                                ...           \n12-31-19     ...                                           0.328919           \n12-31-20     ...                                           0.328919           \n12-31-21     ...                                           0.328919           \n12-31-22     ...                                           0.328919           \n12-31-23     ...                                           0.328919           \n\n             Dynamic Coal Classifier Rotational Speed Coal Mill #3_min  \\\nID_sampling                                                              \n01-01-00                                             -2.352490           \n01-01-01                                             -2.352490           \n01-01-02                                             -2.352490           \n01-01-03                                             -2.352490           \n01-01-04                                             -2.352490           \n...                                                        ...           \n12-31-19                                              0.226345           \n12-31-20                                              0.226345           \n12-31-21                                              0.226345           \n12-31-22                                              0.226345           \n12-31-23                                              0.226345           \n\n             Total Atemperator Feedwater Flow_max  \\\nID_sampling                                         \n01-01-00                                -1.189515   \n01-01-01                                -1.189515   \n01-01-02                                -1.189515   \n01-01-03                                -1.174771   \n01-01-04                                -1.174771   \n...                                           ...   \n12-31-19                                 0.586702   \n12-31-20                                 0.920036   \n12-31-21                                 1.207682   \n12-31-22                                 0.819383   \n12-31-23                                 0.667927   \n\n             Main Steam First Desuperheater Control Valve position (Side 2)_min  \\\nID_sampling                                                                       \n01-01-00                                             -1.124880                    \n01-01-01                                             -1.124880                    \n01-01-02                                             -1.124880                    \n01-01-03                                             -1.124880                    \n01-01-04                                             -1.127704                    \n...                                                        ...                    \n12-31-19                                             -0.870700                    \n12-31-20                                             -0.430120                    \n12-31-21                                              0.061295                    \n12-31-22                                             -1.161595                    \n12-31-23                                             -0.455538                    \n\n             Boiler Outlet Pressure_mean  Boiler Feedwater Pressure_std  \\\nID_sampling                                                               \n01-01-00                        1.973156                      -0.289632   \n01-01-01                        1.978802                      -0.289632   \n01-01-02                        2.018326                      -0.289632   \n01-01-03                        2.029619                      -0.289632   \n01-01-04                        1.988213                      -0.289632   \n...                                  ...                            ...   \n12-31-19                       -0.282056                      -0.213323   \n12-31-20                       -0.300406                      -0.174797   \n12-31-21                       -0.312640                      -0.189912   \n12-31-22                       -0.251002                      -0.132029   \n12-31-23                       -0.253825                      -0.173919   \n\n             Active Power_mean  Boosted Overfire Air (Side 1)_mean  \\\nID_sampling                                                          \n01-01-00             -1.608938                           -0.487889   \n01-01-01             -1.608860                           -0.487889   \n01-01-02             -1.608781                           -0.487889   \n01-01-03             -1.608702                           -0.487889   \n01-01-04             -1.608637                           -0.487889   \n...                        ...                                 ...   \n12-31-19              0.637506                           -0.487889   \n12-31-20              0.639302                           -0.487889   \n12-31-21              0.639275                           -0.487889   \n12-31-22              0.636989                           -0.487889   \n12-31-23              0.639193                           -0.487889   \n\n             Boosted Overfire Air (Side 1)_median  Coal Feeder #5_max  \nID_sampling                                                            \n01-01-00                                -0.487419           -1.400309  \n01-01-01                                -0.487419           -1.400309  \n01-01-02                                -0.487419           -1.400309  \n01-01-03                                -0.487419           -1.400309  \n01-01-04                                -0.487419           -1.399438  \n...                                           ...                 ...  \n12-31-19                                -0.487419           -1.400309  \n12-31-20                                -0.487419           -1.400309  \n12-31-21                                -0.487419           -1.400309  \n12-31-22                                -0.487419           -1.400309  \n12-31-23                                -0.487419           -1.400309  \n\n[8783 rows x 36 columns]"
     },
     "execution_count": 27,
     "metadata": {},
     "output_type": "execute_result"
    }
   ],
   "source": [
    "X_scaled_interpolated_from_csv_3[numeric_features]"
   ]
  },
  {
   "cell_type": "code",
   "execution_count": 30,
   "metadata": {},
   "outputs": [],
   "source": [
    "preds_probas_3_df = pd.DataFrame(data={'y_predicted_values': pd.Series(), 'y_predicted_probas': pd.Series()}, index=X_scaled_interpolated_from_csv_3.index)\n",
    "boiler_Y_year_3_probs = xgb_best_params_edp_funct_model_boiler_y_sel_feat_th_4.predict_proba(X_scaled_interpolated_from_csv_3[selected_important_features])[:, 1]\n",
    "boiler_Y_year_3_preds = xgb_best_params_edp_funct_model_boiler_y_sel_feat_th_4.predict(X_scaled_interpolated_from_csv_3[selected_important_features])\n",
    "\n",
    "preds_probas_4_df = pd.DataFrame(data={'y_predicted_values': pd.Series(), 'y_predicted_probas': pd.Series()}, index=X_scaled_interpolated_from_csv_4.index)\n",
    "boiler_Y_year_4_probs = xgb_best_params_edp_funct_model_boiler_y_sel_feat_th_4.predict_proba(X_scaled_interpolated_from_csv_4[numeric_features])[:, 1]\n",
    "boiler_Y_year_4_preds = xgb_best_params_edp_funct_model_boiler_y_sel_feat_th_4.predict(X_scaled_interpolated_from_csv_4[numeric_features])\n"
   ]
  },
  {
   "cell_type": "code",
   "execution_count": 31,
   "metadata": {},
   "outputs": [
    {
     "data": {
      "text/html": "<div>\n<style scoped>\n    .dataframe tbody tr th:only-of-type {\n        vertical-align: middle;\n    }\n\n    .dataframe tbody tr th {\n        vertical-align: top;\n    }\n\n    .dataframe thead th {\n        text-align: right;\n    }\n</style>\n<table border=\"1\" class=\"dataframe\">\n  <thead>\n    <tr style=\"text-align: right;\">\n      <th></th>\n      <th>y_predicted_values</th>\n      <th>y_predicted_probas</th>\n    </tr>\n    <tr>\n      <th>ID_sampling</th>\n      <th></th>\n      <th></th>\n    </tr>\n  </thead>\n  <tbody>\n    <tr>\n      <td>01-11-10</td>\n      <td>1</td>\n      <td>0.638112</td>\n    </tr>\n    <tr>\n      <td>01-11-11</td>\n      <td>1</td>\n      <td>0.669647</td>\n    </tr>\n    <tr>\n      <td>01-11-12</td>\n      <td>1</td>\n      <td>0.669647</td>\n    </tr>\n    <tr>\n      <td>01-11-13</td>\n      <td>1</td>\n      <td>0.669647</td>\n    </tr>\n    <tr>\n      <td>01-11-14</td>\n      <td>1</td>\n      <td>0.669647</td>\n    </tr>\n    <tr>\n      <td>...</td>\n      <td>...</td>\n      <td>...</td>\n    </tr>\n    <tr>\n      <td>10-30-18</td>\n      <td>1</td>\n      <td>0.503400</td>\n    </tr>\n    <tr>\n      <td>11-03-07</td>\n      <td>1</td>\n      <td>0.508475</td>\n    </tr>\n    <tr>\n      <td>11-03-08</td>\n      <td>1</td>\n      <td>0.508475</td>\n    </tr>\n    <tr>\n      <td>11-03-09</td>\n      <td>1</td>\n      <td>0.508475</td>\n    </tr>\n    <tr>\n      <td>11-03-10</td>\n      <td>1</td>\n      <td>0.508475</td>\n    </tr>\n  </tbody>\n</table>\n<p>336 rows × 2 columns</p>\n</div>",
      "text/plain": "             y_predicted_values  y_predicted_probas\nID_sampling                                        \n01-11-10                      1            0.638112\n01-11-11                      1            0.669647\n01-11-12                      1            0.669647\n01-11-13                      1            0.669647\n01-11-14                      1            0.669647\n...                         ...                 ...\n10-30-18                      1            0.503400\n11-03-07                      1            0.508475\n11-03-08                      1            0.508475\n11-03-09                      1            0.508475\n11-03-10                      1            0.508475\n\n[336 rows x 2 columns]"
     },
     "execution_count": 31,
     "metadata": {},
     "output_type": "execute_result"
    }
   ],
   "source": [
    "preds_probas_3_df.y_predicted_values = boiler_Y_year_3_preds\n",
    "preds_probas_3_df.y_predicted_probas = boiler_Y_year_3_probs\n",
    "\n",
    "positive_preds_probas_3_df = preds_probas_3_df[preds_probas_3_df.y_predicted_values==1]\n",
    "positive_preds_probas_3_df"
   ]
  },
  {
   "cell_type": "code",
   "execution_count": 32,
   "metadata": {},
   "outputs": [],
   "source": [
    "unique_ID_values = positive_preds_probas_3_df.index\n",
    "unique_days = [x.split('-')[1] for x in unique_ID_values]\n",
    "unique_months = [x.split('-')[0] for x in unique_ID_values]\n",
    "\n",
    "positive_preds_probas_3_df['month'] = unique_months\n",
    "positive_preds_probas_3_df['day'] = unique_days\n",
    "\n",
    "daily_median_pred_3_probs = positive_preds_probas_3_df.groupby(['month', 'day'])['y_predicted_probas'].agg(['median']) #.reset_index(drop=True)\n",
    "daily_median_pred_3_probs_df = pd.DataFrame(daily_median_pred_3_probs)\n"
   ]
  },
  {
   "cell_type": "code",
   "execution_count": 33,
   "metadata": {},
   "outputs": [
    {
     "data": {
      "text/html": "<div>\n<style scoped>\n    .dataframe tbody tr th:only-of-type {\n        vertical-align: middle;\n    }\n\n    .dataframe tbody tr th {\n        vertical-align: top;\n    }\n\n    .dataframe thead th {\n        text-align: right;\n    }\n</style>\n<table border=\"1\" class=\"dataframe\">\n  <thead>\n    <tr style=\"text-align: right;\">\n      <th></th>\n      <th></th>\n      <th>median</th>\n    </tr>\n    <tr>\n      <th>month</th>\n      <th>day</th>\n      <th></th>\n    </tr>\n  </thead>\n  <tbody>\n    <tr>\n      <td rowspan=\"2\" valign=\"top\">01</td>\n      <td>11</td>\n      <td>0.669647</td>\n    </tr>\n    <tr>\n      <td>20</td>\n      <td>0.707980</td>\n    </tr>\n    <tr>\n      <td rowspan=\"3\" valign=\"top\">03</td>\n      <td>07</td>\n      <td>0.585349</td>\n    </tr>\n    <tr>\n      <td>27</td>\n      <td>0.669647</td>\n    </tr>\n    <tr>\n      <td>28</td>\n      <td>0.669647</td>\n    </tr>\n    <tr>\n      <td rowspan=\"11\" valign=\"top\">04</td>\n      <td>03</td>\n      <td>0.653880</td>\n    </tr>\n    <tr>\n      <td>07</td>\n      <td>0.669647</td>\n    </tr>\n    <tr>\n      <td>08</td>\n      <td>0.669647</td>\n    </tr>\n    <tr>\n      <td>15</td>\n      <td>0.587265</td>\n    </tr>\n    <tr>\n      <td>16</td>\n      <td>0.725555</td>\n    </tr>\n    <tr>\n      <td>17</td>\n      <td>0.725555</td>\n    </tr>\n    <tr>\n      <td>21</td>\n      <td>0.725555</td>\n    </tr>\n    <tr>\n      <td>22</td>\n      <td>0.725555</td>\n    </tr>\n    <tr>\n      <td>23</td>\n      <td>0.638112</td>\n    </tr>\n    <tr>\n      <td>24</td>\n      <td>0.638112</td>\n    </tr>\n    <tr>\n      <td>26</td>\n      <td>0.725555</td>\n    </tr>\n    <tr>\n      <td rowspan=\"4\" valign=\"top\">05</td>\n      <td>23</td>\n      <td>0.669647</td>\n    </tr>\n    <tr>\n      <td>24</td>\n      <td>0.638112</td>\n    </tr>\n    <tr>\n      <td>25</td>\n      <td>0.669647</td>\n    </tr>\n    <tr>\n      <td>26</td>\n      <td>0.669647</td>\n    </tr>\n    <tr>\n      <td rowspan=\"3\" valign=\"top\">06</td>\n      <td>21</td>\n      <td>0.725555</td>\n    </tr>\n    <tr>\n      <td>22</td>\n      <td>0.725555</td>\n    </tr>\n    <tr>\n      <td>28</td>\n      <td>0.725555</td>\n    </tr>\n    <tr>\n      <td rowspan=\"6\" valign=\"top\">07</td>\n      <td>16</td>\n      <td>0.598847</td>\n    </tr>\n    <tr>\n      <td>17</td>\n      <td>0.537471</td>\n    </tr>\n    <tr>\n      <td>19</td>\n      <td>0.573670</td>\n    </tr>\n    <tr>\n      <td>20</td>\n      <td>0.591916</td>\n    </tr>\n    <tr>\n      <td>21</td>\n      <td>0.585281</td>\n    </tr>\n    <tr>\n      <td>22</td>\n      <td>0.585281</td>\n    </tr>\n    <tr>\n      <td rowspan=\"4\" valign=\"top\">08</td>\n      <td>12</td>\n      <td>0.560183</td>\n    </tr>\n    <tr>\n      <td>13</td>\n      <td>0.560183</td>\n    </tr>\n    <tr>\n      <td>14</td>\n      <td>0.560183</td>\n    </tr>\n    <tr>\n      <td>16</td>\n      <td>0.585281</td>\n    </tr>\n    <tr>\n      <td>10</td>\n      <td>30</td>\n      <td>0.543846</td>\n    </tr>\n    <tr>\n      <td>11</td>\n      <td>03</td>\n      <td>0.508475</td>\n    </tr>\n  </tbody>\n</table>\n</div>",
      "text/plain": "             median\nmonth day          \n01    11   0.669647\n      20   0.707980\n03    07   0.585349\n      27   0.669647\n      28   0.669647\n04    03   0.653880\n      07   0.669647\n      08   0.669647\n      15   0.587265\n      16   0.725555\n      17   0.725555\n      21   0.725555\n      22   0.725555\n      23   0.638112\n      24   0.638112\n      26   0.725555\n05    23   0.669647\n      24   0.638112\n      25   0.669647\n      26   0.669647\n06    21   0.725555\n      22   0.725555\n      28   0.725555\n07    16   0.598847\n      17   0.537471\n      19   0.573670\n      20   0.591916\n      21   0.585281\n      22   0.585281\n08    12   0.560183\n      13   0.560183\n      14   0.560183\n      16   0.585281\n10    30   0.543846\n11    03   0.508475"
     },
     "execution_count": 33,
     "metadata": {},
     "output_type": "execute_result"
    }
   ],
   "source": [
    "daily_median_pred_3_probs_df.sort_values(by=['month', 'day'], axis='index')"
   ]
  },
  {
   "cell_type": "code",
   "execution_count": 34,
   "metadata": {},
   "outputs": [
    {
     "data": {
      "text/html": "<div>\n<style scoped>\n    .dataframe tbody tr th:only-of-type {\n        vertical-align: middle;\n    }\n\n    .dataframe tbody tr th {\n        vertical-align: top;\n    }\n\n    .dataframe thead th {\n        text-align: right;\n    }\n</style>\n<table border=\"1\" class=\"dataframe\">\n  <thead>\n    <tr style=\"text-align: right;\">\n      <th></th>\n      <th>y_predicted_values</th>\n      <th>y_predicted_probas</th>\n    </tr>\n    <tr>\n      <th>ID_sampling</th>\n      <th></th>\n      <th></th>\n    </tr>\n  </thead>\n  <tbody>\n    <tr>\n      <td>01-05-08</td>\n      <td>1</td>\n      <td>0.564514</td>\n    </tr>\n    <tr>\n      <td>01-05-09</td>\n      <td>1</td>\n      <td>0.564514</td>\n    </tr>\n    <tr>\n      <td>01-05-10</td>\n      <td>1</td>\n      <td>0.504376</td>\n    </tr>\n    <tr>\n      <td>01-05-11</td>\n      <td>1</td>\n      <td>0.539148</td>\n    </tr>\n    <tr>\n      <td>01-05-12</td>\n      <td>1</td>\n      <td>0.539148</td>\n    </tr>\n    <tr>\n      <td>...</td>\n      <td>...</td>\n      <td>...</td>\n    </tr>\n    <tr>\n      <td>12-08-13</td>\n      <td>1</td>\n      <td>0.691934</td>\n    </tr>\n    <tr>\n      <td>12-08-14</td>\n      <td>1</td>\n      <td>0.691934</td>\n    </tr>\n    <tr>\n      <td>12-08-15</td>\n      <td>1</td>\n      <td>0.691934</td>\n    </tr>\n    <tr>\n      <td>12-08-16</td>\n      <td>1</td>\n      <td>0.745504</td>\n    </tr>\n    <tr>\n      <td>12-08-17</td>\n      <td>1</td>\n      <td>0.661452</td>\n    </tr>\n  </tbody>\n</table>\n<p>315 rows × 2 columns</p>\n</div>",
      "text/plain": "             y_predicted_values  y_predicted_probas\nID_sampling                                        \n01-05-08                      1            0.564514\n01-05-09                      1            0.564514\n01-05-10                      1            0.504376\n01-05-11                      1            0.539148\n01-05-12                      1            0.539148\n...                         ...                 ...\n12-08-13                      1            0.691934\n12-08-14                      1            0.691934\n12-08-15                      1            0.691934\n12-08-16                      1            0.745504\n12-08-17                      1            0.661452\n\n[315 rows x 2 columns]"
     },
     "execution_count": 34,
     "metadata": {},
     "output_type": "execute_result"
    }
   ],
   "source": [
    "preds_probas_4_df.y_predicted_values = boiler_Y_year_4_preds\n",
    "preds_probas_4_df.y_predicted_probas = boiler_Y_year_4_probs\n",
    "\n",
    "positive_preds_probas_4_df = preds_probas_4_df[preds_probas_4_df.y_predicted_values==1]\n",
    "positive_preds_probas_4_df"
   ]
  },
  {
   "cell_type": "code",
   "execution_count": 35,
   "metadata": {},
   "outputs": [],
   "source": [
    "unique_ID_values = positive_preds_probas_4_df.index\n",
    "unique_days = [x.split('-')[1] for x in unique_ID_values]\n",
    "unique_months = [x.split('-')[0] for x in unique_ID_values]\n",
    "\n",
    "positive_preds_probas_4_df['month'] = unique_months\n",
    "positive_preds_probas_4_df['day'] = unique_days\n",
    "\n",
    "daily_median_pred_4_probs = positive_preds_probas_4_df.groupby(['month', 'day'])['y_predicted_probas'].agg(['median']) #.reset_index(drop=True)\n",
    "daily_median_pred_4_probs_df = pd.DataFrame(daily_median_pred_4_probs)\n"
   ]
  },
  {
   "cell_type": "code",
   "execution_count": 36,
   "metadata": {},
   "outputs": [
    {
     "data": {
      "text/html": "<div>\n<style scoped>\n    .dataframe tbody tr th:only-of-type {\n        vertical-align: middle;\n    }\n\n    .dataframe tbody tr th {\n        vertical-align: top;\n    }\n\n    .dataframe thead th {\n        text-align: right;\n    }\n</style>\n<table border=\"1\" class=\"dataframe\">\n  <thead>\n    <tr style=\"text-align: right;\">\n      <th></th>\n      <th></th>\n      <th>median</th>\n    </tr>\n    <tr>\n      <th>month</th>\n      <th>day</th>\n      <th></th>\n    </tr>\n  </thead>\n  <tbody>\n    <tr>\n      <td rowspan=\"4\" valign=\"top\">01</td>\n      <td>05</td>\n      <td>0.539148</td>\n    </tr>\n    <tr>\n      <td>06</td>\n      <td>0.539148</td>\n    </tr>\n    <tr>\n      <td>13</td>\n      <td>0.704947</td>\n    </tr>\n    <tr>\n      <td>14</td>\n      <td>0.704947</td>\n    </tr>\n    <tr>\n      <td>07</td>\n      <td>09</td>\n      <td>0.537471</td>\n    </tr>\n    <tr>\n      <td rowspan=\"5\" valign=\"top\">11</td>\n      <td>26</td>\n      <td>0.653880</td>\n    </tr>\n    <tr>\n      <td>27</td>\n      <td>0.669647</td>\n    </tr>\n    <tr>\n      <td>28</td>\n      <td>0.669647</td>\n    </tr>\n    <tr>\n      <td>29</td>\n      <td>0.669647</td>\n    </tr>\n    <tr>\n      <td>30</td>\n      <td>0.669647</td>\n    </tr>\n    <tr>\n      <td rowspan=\"8\" valign=\"top\">12</td>\n      <td>01</td>\n      <td>0.669647</td>\n    </tr>\n    <tr>\n      <td>02</td>\n      <td>0.669647</td>\n    </tr>\n    <tr>\n      <td>03</td>\n      <td>0.669647</td>\n    </tr>\n    <tr>\n      <td>04</td>\n      <td>0.669647</td>\n    </tr>\n    <tr>\n      <td>05</td>\n      <td>0.669647</td>\n    </tr>\n    <tr>\n      <td>06</td>\n      <td>0.669647</td>\n    </tr>\n    <tr>\n      <td>07</td>\n      <td>0.669647</td>\n    </tr>\n    <tr>\n      <td>08</td>\n      <td>0.691934</td>\n    </tr>\n  </tbody>\n</table>\n</div>",
      "text/plain": "             median\nmonth day          \n01    05   0.539148\n      06   0.539148\n      13   0.704947\n      14   0.704947\n07    09   0.537471\n11    26   0.653880\n      27   0.669647\n      28   0.669647\n      29   0.669647\n      30   0.669647\n12    01   0.669647\n      02   0.669647\n      03   0.669647\n      04   0.669647\n      05   0.669647\n      06   0.669647\n      07   0.669647\n      08   0.691934"
     },
     "execution_count": 36,
     "metadata": {},
     "output_type": "execute_result"
    }
   ],
   "source": [
    "daily_median_pred_4_probs_df.sort_values(by=['month', 'day'], axis='index')"
   ]
  },
  {
   "cell_type": "code",
   "execution_count": null,
   "metadata": {},
   "outputs": [],
   "source": []
  }
 ]
}